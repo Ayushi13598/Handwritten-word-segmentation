{
 "cells": [
  {
   "cell_type": "code",
   "execution_count": 2,
   "metadata": {},
   "outputs": [],
   "source": [
    "\"\"\"\n",
    "Helper functions for ocr project\n",
    "\"\"\"\n",
    "\n",
    "import numpy as np\n",
    "import cv2\n",
    "\n",
    "\n",
    "SMALL_HEIGHT = 800\n",
    "\n",
    "\n",
    "def implt(img, cmp=None, t=''):\n",
    "    \"\"\"Show image using plt.\"\"\"\n",
    "    cv2.namedWindow('', cv2.WINDOW_NORMAL)\n",
    "    cv2.imshow('', img)\n",
    "    cv2.waitKey(0)\n",
    "\n",
    "\n",
    "def resize(img, height=SMALL_HEIGHT, allways=False):\n",
    "    \"\"\"Resize image to given height.\"\"\"\n",
    "    # print(img.shape[1], img.shape[0])\n",
    "    if (img.shape[0] > height or allways):\n",
    "        rat = height / img.shape[0]\n",
    "        return cv2.resize(img, (int(rat * img.shape[1]), height))\n",
    "    \n",
    "    return img\n",
    "\n",
    "\n",
    "def ratio(img, height=SMALL_HEIGHT):\n",
    "    \"\"\"Getting scale ratio.\"\"\"\n",
    "    return img.shape[0] / height\n",
    "\n",
    "\n",
    "def img_extend(img, shape):\n",
    "    \"\"\"Extend 2D image (numpy array) in vertical and horizontal direction.\n",
    "    Shape of result image will match 'shape'\n",
    "    Args:\n",
    "        img: image to be extended\n",
    "        shape: shape (touple) of result image\n",
    "    Returns:\n",
    "        Extended image\n",
    "    \"\"\"\n",
    "    x = np.zeros(shape, np.uint8)\n",
    "    x[:img.shape[0], :img.shape[1]] = img\n",
    "    return x"
   ]
  },
  {
   "cell_type": "code",
   "execution_count": null,
   "metadata": {},
   "outputs": [],
   "source": []
  }
 ],
 "metadata": {
  "kernelspec": {
   "display_name": "Python 3",
   "language": "python",
   "name": "python3"
  },
  "language_info": {
   "codemirror_mode": {
    "name": "ipython",
    "version": 3
   },
   "file_extension": ".py",
   "mimetype": "text/x-python",
   "name": "python",
   "nbconvert_exporter": "python",
   "pygments_lexer": "ipython3",
   "version": "3.6.8"
  }
 },
 "nbformat": 4,
 "nbformat_minor": 2
}
